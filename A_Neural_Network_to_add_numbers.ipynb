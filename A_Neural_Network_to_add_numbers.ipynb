{
  "nbformat": 4,
  "nbformat_minor": 0,
  "metadata": {
    "colab": {
      "provenance": [],
      "include_colab_link": true
    },
    "kernelspec": {
      "name": "python3",
      "display_name": "Python 3"
    },
    "language_info": {
      "name": "python"
    }
  },
  "cells": [
    {
      "cell_type": "markdown",
      "metadata": {
        "id": "view-in-github",
        "colab_type": "text"
      },
      "source": [
        "<a href=\"https://colab.research.google.com/github/DhananjayaSam/uomEmbeddedML/blob/main/A_Neural_Network_to_add_numbers.ipynb\" target=\"_parent\"><img src=\"https://colab.research.google.com/assets/colab-badge.svg\" alt=\"Open In Colab\"/></a>"
      ]
    },
    {
      "cell_type": "markdown",
      "source": [
        "# Using traditional programming"
      ],
      "metadata": {
        "id": "oM6cnAQNoUlg"
      }
    },
    {
      "cell_type": "code",
      "source": [
        "def addTwoNumbers(number1, number2):\n",
        "  ## Complete this part\n",
        "\n",
        "\n",
        "a= 2\n",
        "b= 3\n",
        "answer= addTwoNumbers(a,b)\n",
        "\n",
        "print(answer)"
      ],
      "metadata": {
        "colab": {
          "base_uri": "https://localhost:8080/"
        },
        "id": "pyAwCMRGohP-",
        "outputId": "37b05c24-8efa-4926-b632-178f4b033e61"
      },
      "execution_count": null,
      "outputs": [
        {
          "output_type": "stream",
          "name": "stdout",
          "text": [
            "5\n"
          ]
        }
      ]
    },
    {
      "cell_type": "markdown",
      "source": [
        "# Using Machine Learning"
      ],
      "metadata": {
        "id": "Da6ullFMocTP"
      }
    },
    {
      "cell_type": "code",
      "execution_count": null,
      "metadata": {
        "colab": {
          "base_uri": "https://localhost:8080/"
        },
        "id": "9ZFbDzQKmo-i",
        "outputId": "946c95cb-4c41-4462-d301-713b47a0ef9c"
      },
      "outputs": [
        {
          "output_type": "stream",
          "name": "stdout",
          "text": [
            "[[1. 1.]]\n",
            "[[2.000e+00 2.000e+00]\n",
            " [4.000e+00 4.000e+00]\n",
            " [8.000e+00 8.000e+00]\n",
            " ...\n",
            " [7.988e+03 7.988e+03]\n",
            " [7.992e+03 7.992e+03]\n",
            " [7.996e+03 7.996e+03]]\n"
          ]
        }
      ],
      "source": [
        "import numpy as np \n",
        "train_data = np.array([[1.0,1.0]])\n",
        "train_targets = np.array([2.0])\n",
        "print(train_data)\n",
        "for i in range(3,10000,2):\n",
        "    train_data= np.append(train_data,[[i,i]],axis=0)\n",
        "    train_targets= np.append(train_targets,[i+i])\n",
        "test_data = np.array([[2.0,2.0]])\n",
        "test_targets = np.array([4.0])\n",
        "for i in range(4,8000,4):\n",
        "    test_data = np.append(test_data,[[i,i]],axis=0)\n",
        "    test_targets = np.append(test_targets,[i+i])\n",
        "\n",
        "print(test_data)"
      ]
    },
    {
      "cell_type": "code",
      "source": [
        "import tensorflow as tf\n",
        "from tensorflow import keras\n",
        "import numpy as np\n",
        "# import data_creation as dc \n",
        "\n",
        "model = keras.Sequential([\n",
        "    keras.layers.Flatten(input_shape=(2,)),\n",
        "    keras.layers.Dense(20, activation=tf.nn.relu),\n",
        "\tkeras.layers.Dense(20, activation=tf.nn.relu),\n",
        "    keras.layers.Dense(1)\n",
        "])\n",
        "\n",
        "model.compile(optimizer='adam', \n",
        "              loss='mse',\n",
        "              metrics=['mae'])\n",
        "\n",
        "model.fit(train_data, train_targets, epochs=2, batch_size=1)\n",
        "\n",
        "test_loss, test_acc = model.evaluate(test_data, test_targets)\n",
        "print('Test accuracy:', test_acc)\n",
        "a= np.array([[2000,3000],[4,5]])\n",
        "print(model.predict(a))"
      ],
      "metadata": {
        "colab": {
          "base_uri": "https://localhost:8080/"
        },
        "id": "2ltcgNHbmxVY",
        "outputId": "f16507b4-4f68-4951-a940-f79f3587fe90"
      },
      "execution_count": null,
      "outputs": [
        {
          "output_type": "stream",
          "name": "stdout",
          "text": [
            "Epoch 1/2\n",
            "5000/5000 [==============================] - 7s 1ms/step - loss: 1222157.3750 - mae: 154.6324\n",
            "Epoch 2/2\n",
            "5000/5000 [==============================] - 7s 1ms/step - loss: 421.0514 - mae: 4.7619\n",
            "63/63 [==============================] - 0s 1ms/step - loss: 0.2216 - mae: 0.4706\n",
            "Test accuracy: 0.4705794155597687\n",
            "[[4902.6587  ]\n",
            " [   9.395133]]\n"
          ]
        }
      ]
    },
    {
      "cell_type": "code",
      "source": [
        "a= np.array([[2,3]])\n",
        "print(model.predict(a))"
      ],
      "metadata": {
        "colab": {
          "base_uri": "https://localhost:8080/"
        },
        "id": "UD6H0YuDm5bt",
        "outputId": "4c6e53b8-7de1-43a2-d677-5a82502ac767"
      },
      "execution_count": null,
      "outputs": [
        {
          "output_type": "stream",
          "name": "stdout",
          "text": [
            "[[5.406146]]\n"
          ]
        }
      ]
    }
  ]
}